{
  "nbformat": 4,
  "nbformat_minor": 0,
  "metadata": {
    "colab": {
      "provenance": [],
      "authorship_tag": "ABX9TyOkWyTP7J/Ci7+EO82X2tRI",
      "include_colab_link": true
    },
    "kernelspec": {
      "name": "python3",
      "display_name": "Python 3"
    },
    "language_info": {
      "name": "python"
    }
  },
  "cells": [
    {
      "cell_type": "markdown",
      "metadata": {
        "id": "view-in-github",
        "colab_type": "text"
      },
      "source": [
        "<a href=\"https://colab.research.google.com/github/yBloody/aula-type-script/blob/aula4/aula4.ipynb\" target=\"_parent\"><img src=\"https://colab.research.google.com/assets/colab-badge.svg\" alt=\"Open In Colab\"/></a>"
      ]
    },
    {
      "cell_type": "markdown",
      "source": [
        "criar um codigo para calcular imposto de renda[texto do link](https://)"
      ],
      "metadata": {
        "id": "V_tUU2R_N0Ye"
      }
    },
    {
      "cell_type": "code",
      "source": [
        "s = float(input(\"qual o seu salario?: \"))\n",
        "p = (8 / 100) * s\n",
        "lq = s - p\n",
        "lq2 = (25.7 / 100) * lq\n",
        "lq3 = lq - lq2\n",
        "print(f\"seu salario liquido é: {lq3}\")"
      ],
      "metadata": {
        "colab": {
          "base_uri": "https://localhost:8080/"
        },
        "id": "9RGlNzrHLeVe",
        "outputId": "71f7e68a-d057-4762-cf2b-b79770c7385b"
      },
      "execution_count": 7,
      "outputs": [
        {
          "output_type": "stream",
          "name": "stdout",
          "text": [
            "qual o seu salario?: 8000\n",
            "seu salario liquido é: 5468.48\n"
          ]
        }
      ]
    }
  ]
}