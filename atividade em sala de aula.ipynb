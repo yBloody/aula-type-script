{
  "nbformat": 4,
  "nbformat_minor": 0,
  "metadata": {
    "colab": {
      "provenance": [],
      "authorship_tag": "ABX9TyMPIxM5eYNbAgvAJgDGUfoG",
      "include_colab_link": true
    },
    "kernelspec": {
      "name": "python3",
      "display_name": "Python 3"
    },
    "language_info": {
      "name": "python"
    }
  },
  "cells": [
    {
      "cell_type": "markdown",
      "metadata": {
        "id": "view-in-github",
        "colab_type": "text"
      },
      "source": [
        "<a href=\"https://colab.research.google.com/github/yBloody/aula-type-script/blob/main/atividade%20em%20sala%20de%20aula.ipynb\" target=\"_parent\"><img src=\"https://colab.research.google.com/assets/colab-badge.svg\" alt=\"Open In Colab\"/></a>"
      ]
    },
    {
      "cell_type": "markdown",
      "source": [
        "criar um codigo para calcular imposto de renda[texto do link](https://)"
      ],
      "metadata": {
        "id": "V_tUU2R_N0Ye"
      }
    },
    {
      "cell_type": "code",
      "source": [
        "salario = float(input(\"qual o seu salario?: \"))\n",
        "salario = salario - 0.08 * salario\n",
        "if salario <= 2200:\n",
        "  salario = salario - 0.0\n",
        "  print(f\"seu salario liquido é {salario:.2f}\")\n",
        "elif salario <= 2800:\n",
        "  salario = salario - 0.075 * salario\n",
        "  print(f\"seu salario liquido é {salario:.2f}\")\n",
        "elif salario <= 3700:\n",
        "  salario = salario - 0.15 * salario\n",
        "  print(f\"seu salario liquido é {salario:.2f}\")\n",
        "elif salario <= 4600:\n",
        "  salario = salario - 0.225 * salario\n",
        "  print(f\"seu salario liquido é {salario:.2f}\")\n",
        "elif salario >= 4600:\n",
        "  salario = salario - 0.275 * salario\n",
        "  print(f\"seu salario liquido é {salario:.2f}\")"
      ],
      "metadata": {
        "colab": {
          "base_uri": "https://localhost:8080/"
        },
        "id": "9RGlNzrHLeVe",
        "outputId": "1601d003-9d4e-4126-9791-5feedd671862"
      },
      "execution_count": null,
      "outputs": [
        {
          "output_type": "stream",
          "name": "stdout",
          "text": [
            "qual o seu salario?: 8000\n",
            "seu salario liquido é 5336.00\n"
          ]
        }
      ]
    }
  ]
}